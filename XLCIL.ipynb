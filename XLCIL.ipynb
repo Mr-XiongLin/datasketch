{
  "nbformat": 4,
  "nbformat_minor": 0,
  "metadata": {
    "colab": {
      "provenance": [],
      "gpuType": "T4",
      "mount_file_id": "1gLG8ou2GaQwl9lYXbuw8upG3a_4zfZJE",
      "authorship_tag": "ABX9TyNir9Y+UYfqPy1MCl5uvjfz",
      "include_colab_link": true
    },
    "kernelspec": {
      "name": "python3",
      "display_name": "Python 3"
    },
    "language_info": {
      "name": "python"
    },
    "accelerator": "GPU"
  },
  "cells": [
    {
      "cell_type": "markdown",
      "metadata": {
        "id": "view-in-github",
        "colab_type": "text"
      },
      "source": [
        "<a href=\"https://colab.research.google.com/github/Mr-XiongLin/datasketch/blob/master/XLCIL.ipynb\" target=\"_parent\"><img src=\"https://colab.research.google.com/assets/colab-badge.svg\" alt=\"Open In Colab\"/></a>"
      ]
    },
    {
      "cell_type": "code",
      "execution_count": null,
      "metadata": {
        "colab": {
          "base_uri": "https://localhost:8080/"
        },
        "id": "8f6gSNw73F0H",
        "outputId": "58e4667e-e036-4f0e-81bc-5ec3f266c45a"
      },
      "outputs": [
        {
          "output_type": "stream",
          "name": "stdout",
          "text": [
            "Sun Jun 11 00:20:45 2023       \n",
            "+-----------------------------------------------------------------------------+\n",
            "| NVIDIA-SMI 525.85.12    Driver Version: 525.85.12    CUDA Version: 12.0     |\n",
            "|-------------------------------+----------------------+----------------------+\n",
            "| GPU  Name        Persistence-M| Bus-Id        Disp.A | Volatile Uncorr. ECC |\n",
            "| Fan  Temp  Perf  Pwr:Usage/Cap|         Memory-Usage | GPU-Util  Compute M. |\n",
            "|                               |                      |               MIG M. |\n",
            "|===============================+======================+======================|\n",
            "|   0  Tesla T4            Off  | 00000000:00:04.0 Off |                    0 |\n",
            "| N/A   49C    P8     9W /  70W |      0MiB / 15360MiB |      0%      Default |\n",
            "|                               |                      |                  N/A |\n",
            "+-------------------------------+----------------------+----------------------+\n",
            "                                                                               \n",
            "+-----------------------------------------------------------------------------+\n",
            "| Processes:                                                                  |\n",
            "|  GPU   GI   CI        PID   Type   Process name                  GPU Memory |\n",
            "|        ID   ID                                                   Usage      |\n",
            "|=============================================================================|\n",
            "|  No running processes found                                                 |\n",
            "+-----------------------------------------------------------------------------+\n"
          ]
        }
      ],
      "source": [
        "!nvidia-smi\n"
      ]
    },
    {
      "cell_type": "code",
      "source": [
        "!git clone https://github.com/G-U-N/PyCIL.git"
      ],
      "metadata": {
        "colab": {
          "base_uri": "https://localhost:8080/"
        },
        "id": "FOU_B2EA3dlp",
        "outputId": "cdb20eeb-9eb8-4969-f38c-d9a5fdfb0977"
      },
      "execution_count": null,
      "outputs": [
        {
          "output_type": "stream",
          "name": "stdout",
          "text": [
            "Cloning into 'PyCIL'...\n",
            "remote: Enumerating objects: 763, done.\u001b[K\n",
            "remote: Counting objects: 100% (626/626), done.\u001b[K\n",
            "remote: Compressing objects: 100% (249/249), done.\u001b[K\n",
            "remote: Total 763 (delta 442), reused 534 (delta 373), pack-reused 137\u001b[K\n",
            "Receiving objects: 100% (763/763), 1.72 MiB | 12.76 MiB/s, done.\n",
            "Resolving deltas: 100% (500/500), done.\n"
          ]
        }
      ]
    },
    {
      "cell_type": "code",
      "source": [
        "!pwd\n",
        "\n",
        "!cd PyCIL"
      ],
      "metadata": {
        "colab": {
          "base_uri": "https://localhost:8080/"
        },
        "id": "8_ndI_Ho4UXS",
        "outputId": "35c200ac-5ca4-4b76-b924-d7560fc9307b"
      },
      "execution_count": null,
      "outputs": [
        {
          "output_type": "stream",
          "name": "stdout",
          "text": [
            "/content\n"
          ]
        }
      ]
    },
    {
      "cell_type": "code",
      "source": [
        "!ls"
      ],
      "metadata": {
        "colab": {
          "base_uri": "https://localhost:8080/"
        },
        "id": "_nvHAVWP4YUm",
        "outputId": "be0b1191-3144-45fd-cec1-99e213faaf8e"
      },
      "execution_count": null,
      "outputs": [
        {
          "output_type": "stream",
          "name": "stdout",
          "text": [
            "PyCIL  sample_data\n"
          ]
        }
      ]
    },
    {
      "cell_type": "code",
      "source": [
        "cd PyCIL"
      ],
      "metadata": {
        "colab": {
          "base_uri": "https://localhost:8080/"
        },
        "id": "09QUxP6C4ire",
        "outputId": "cc470ea9-dc73-404b-a3d0-2258095c1955"
      },
      "execution_count": null,
      "outputs": [
        {
          "output_type": "stream",
          "name": "stdout",
          "text": [
            "/content/PyCIL\n"
          ]
        }
      ]
    },
    {
      "cell_type": "code",
      "source": [
        "!pwd"
      ],
      "metadata": {
        "colab": {
          "base_uri": "https://localhost:8080/"
        },
        "id": "7t7REgGV43nX",
        "outputId": "bc3ed92d-6526-44f5-86ef-1a63a084d44a"
      },
      "execution_count": null,
      "outputs": [
        {
          "output_type": "stream",
          "name": "stdout",
          "text": [
            "/content/PyCIL\n"
          ]
        }
      ]
    },
    {
      "cell_type": "code",
      "source": [
        "cd /content/PyCIL"
      ],
      "metadata": {
        "colab": {
          "base_uri": "https://localhost:8080/"
        },
        "id": "jNiPZhCG5QR3",
        "outputId": "c5c6a5c9-489b-4499-ae4c-1ecc7cbb1bf4"
      },
      "execution_count": null,
      "outputs": [
        {
          "output_type": "stream",
          "name": "stdout",
          "text": [
            "[Errno 2] No such file or directory: '/content/PyCIL'\n",
            "/content\n"
          ]
        }
      ]
    },
    {
      "cell_type": "code",
      "source": [
        "!ls"
      ],
      "metadata": {
        "colab": {
          "base_uri": "https://localhost:8080/"
        },
        "id": "WBhoaPvn5T7i",
        "outputId": "846dada4-3439-49c6-ee66-d975398e430e"
      },
      "execution_count": null,
      "outputs": [
        {
          "output_type": "stream",
          "name": "stdout",
          "text": [
            "convs  LICENSE\tmodels\t   resources\t trainer.py\n",
            "exps   main.py\tREADME.md  rmm_train.py  utils\n"
          ]
        }
      ]
    },
    {
      "cell_type": "code",
      "source": [
        "!pip install POT"
      ],
      "metadata": {
        "colab": {
          "base_uri": "https://localhost:8080/"
        },
        "id": "WjzhaVjQ5VRi",
        "outputId": "762f802d-0486-4a95-b670-b402a7572de1"
      },
      "execution_count": null,
      "outputs": [
        {
          "output_type": "stream",
          "name": "stdout",
          "text": [
            "Looking in indexes: https://pypi.org/simple, https://us-python.pkg.dev/colab-wheels/public/simple/\n",
            "Collecting POT\n",
            "  Downloading POT-0.9.0-cp310-cp310-manylinux_2_12_x86_64.manylinux2010_x86_64.whl (702 kB)\n",
            "\u001b[2K     \u001b[90m━━━━━━━━━━━━━━━━━━━━━━━━━━━━━━━━━━━━━━\u001b[0m \u001b[32m702.9/702.9 kB\u001b[0m \u001b[31m13.1 MB/s\u001b[0m eta \u001b[36m0:00:00\u001b[0m\n",
            "\u001b[?25hRequirement already satisfied: numpy>=1.16 in /usr/local/lib/python3.10/dist-packages (from POT) (1.22.4)\n",
            "Requirement already satisfied: scipy>=1.0 in /usr/local/lib/python3.10/dist-packages (from POT) (1.10.1)\n",
            "Installing collected packages: POT\n",
            "Successfully installed POT-0.9.0\n"
          ]
        }
      ]
    },
    {
      "cell_type": "code",
      "source": [
        "!python main.py --config=./exps/ewc.json"
      ],
      "metadata": {
        "id": "R-JCbQuo5dmT",
        "colab": {
          "base_uri": "https://localhost:8080/"
        },
        "outputId": "4177875d-1529-40ad-d7ec-2ca9469260ef"
      },
      "execution_count": null,
      "outputs": [
        {
          "output_type": "stream",
          "name": "stdout",
          "text": [
            "2023-06-11 00:26:58.770694: W tensorflow/compiler/tf2tensorrt/utils/py_utils.cc:38] TF-TRT Warning: Could not find TensorRT\n",
            "2023-06-11 00:27:00,025 [trainer.py] => config: ./exps/ewc.json\n",
            "2023-06-11 00:27:00,025 [trainer.py] => prefix: reproduce\n",
            "2023-06-11 00:27:00,025 [trainer.py] => dataset: cifar100\n",
            "2023-06-11 00:27:00,025 [trainer.py] => memory_size: 2000\n",
            "2023-06-11 00:27:00,025 [trainer.py] => memory_per_class: 20\n",
            "2023-06-11 00:27:00,025 [trainer.py] => fixed_memory: False\n",
            "2023-06-11 00:27:00,025 [trainer.py] => shuffle: True\n",
            "2023-06-11 00:27:00,025 [trainer.py] => init_cls: 10\n",
            "2023-06-11 00:27:00,025 [trainer.py] => increment: 10\n",
            "2023-06-11 00:27:00,025 [trainer.py] => model_name: ewc\n",
            "2023-06-11 00:27:00,025 [trainer.py] => convnet_type: resnet32\n",
            "2023-06-11 00:27:00,025 [trainer.py] => device: [device(type='cuda', index=0)]\n",
            "2023-06-11 00:27:00,025 [trainer.py] => seed: 1993\n",
            "Files already downloaded and verified\n",
            "Files already downloaded and verified\n",
            "2023-06-11 00:27:01,778 [data_manager.py] => [68, 56, 78, 8, 23, 84, 90, 65, 74, 76, 40, 89, 3, 92, 55, 9, 26, 80, 43, 38, 58, 70, 77, 1, 85, 19, 17, 50, 28, 53, 13, 81, 45, 82, 6, 59, 83, 16, 15, 44, 91, 41, 72, 60, 79, 52, 20, 10, 31, 54, 37, 95, 14, 71, 96, 98, 97, 2, 64, 66, 42, 22, 35, 86, 24, 34, 87, 21, 99, 0, 88, 27, 18, 94, 11, 12, 47, 25, 30, 46, 62, 69, 36, 61, 7, 63, 75, 5, 32, 4, 51, 48, 73, 93, 39, 67, 29, 49, 57, 33]\n",
            "2023-06-11 00:27:02,522 [trainer.py] => All params: 464154\n",
            "2023-06-11 00:27:02,522 [trainer.py] => Trainable params: 464154\n",
            "2023-06-11 00:27:02,523 [ewc.py] => Learning on 0-10\n",
            "Task 0, Epoch 20/20 => Loss 0.870, Train_accy 70.66: 100% 20/20 [01:12<00:00,  3.65s/it]\n",
            "2023-06-11 00:28:15,791 [ewc.py] => Task 0, Epoch 20/20 => Loss 0.870, Train_accy 70.66\n",
            "2023-06-11 00:28:19,491 [trainer.py] => No NME accuracy.\n",
            "2023-06-11 00:28:19,491 [trainer.py] => CNN: {'total': 72.7, '00-09': 72.7, 'old': 0, 'new': 72.7}\n",
            "2023-06-11 00:28:19,491 [trainer.py] => CNN top1 curve: [72.7]\n",
            "2023-06-11 00:28:19,491 [trainer.py] => CNN top5 curve: [97.0]\n",
            "\n",
            "2023-06-11 00:28:19,492 [trainer.py] => All params: 464804\n",
            "2023-06-11 00:28:19,493 [trainer.py] => Trainable params: 464804\n",
            "2023-06-11 00:28:19,494 [ewc.py] => Learning on 10-20\n",
            "Task 1, Epoch 10/10 => Loss 1.276, Train_accy 48.58: 100% 10/10 [00:46<00:00,  4.70s/it]\n",
            "2023-06-11 00:29:06,470 [ewc.py] => Task 1, Epoch 10/10 => Loss 1.276, Train_accy 48.58\n",
            "2023-06-11 00:29:10,387 [trainer.py] => No NME accuracy.\n",
            "2023-06-11 00:29:10,387 [trainer.py] => CNN: {'total': 37.85, '00-09': 26.8, '10-19': 48.9, 'old': 26.8, 'new': 48.9}\n",
            "2023-06-11 00:29:10,387 [trainer.py] => CNN top1 curve: [72.7, 37.85]\n",
            "2023-06-11 00:29:10,388 [trainer.py] => CNN top5 curve: [97.0, 77.65]\n",
            "\n",
            "2023-06-11 00:29:10,388 [trainer.py] => All params: 465454\n",
            "2023-06-11 00:29:10,388 [trainer.py] => Trainable params: 465454\n",
            "2023-06-11 00:29:10,389 [ewc.py] => Learning on 20-30\n",
            "Task 2, Epoch 10/10 => Loss 0.759, Train_accy 77.68: 100% 10/10 [00:47<00:00,  4.76s/it]\n",
            "2023-06-11 00:29:58,035 [ewc.py] => Task 2, Epoch 10/10 => Loss 0.759, Train_accy 77.68\n",
            "2023-06-11 00:30:02,187 [trainer.py] => No NME accuracy.\n",
            "2023-06-11 00:30:02,188 [trainer.py] => CNN: {'total': 27.07, '00-09': 2.5, '10-19': 2.9, '20-29': 75.8, 'old': 2.7, 'new': 75.8}\n",
            "2023-06-11 00:30:02,188 [trainer.py] => CNN top1 curve: [72.7, 37.85, 27.07]\n",
            "2023-06-11 00:30:02,188 [trainer.py] => CNN top5 curve: [97.0, 77.65, 59.2]\n",
            "\n",
            "2023-06-11 00:30:02,188 [trainer.py] => All params: 466104\n",
            "2023-06-11 00:30:02,189 [trainer.py] => Trainable params: 466104\n",
            "2023-06-11 00:30:02,189 [ewc.py] => Learning on 30-40\n",
            "Task 3, Epoch 10/10 => Loss 0.953, Train_accy 51.18: 100% 10/10 [00:49<00:00,  4.93s/it]\n",
            "2023-06-11 00:30:51,502 [ewc.py] => Task 3, Epoch 10/10 => Loss 0.953, Train_accy 51.18\n",
            "2023-06-11 00:30:56,776 [trainer.py] => No NME accuracy.\n",
            "2023-06-11 00:30:56,776 [trainer.py] => CNN: {'total': 23.68, '00-09': 1.2, '10-19': 1.0, '20-29': 37.2, '30-39': 55.3, 'old': 13.13, 'new': 55.3}\n",
            "2023-06-11 00:30:56,777 [trainer.py] => CNN top1 curve: [72.7, 37.85, 27.07, 23.68]\n",
            "2023-06-11 00:30:56,777 [trainer.py] => CNN top5 curve: [97.0, 77.65, 59.2, 52.85]\n",
            "\n",
            "2023-06-11 00:30:56,777 [trainer.py] => All params: 466754\n",
            "2023-06-11 00:30:56,778 [trainer.py] => Trainable params: 466754\n",
            "2023-06-11 00:30:56,779 [ewc.py] => Learning on 40-50\n",
            "Task 4, Epoch 10/10 => Loss 0.614, Train_accy 79.60: 100% 10/10 [00:47<00:00,  4.78s/it]\n",
            "2023-06-11 00:31:44,636 [ewc.py] => Task 4, Epoch 10/10 => Loss 0.614, Train_accy 79.60\n",
            "2023-06-11 00:31:50,401 [trainer.py] => No NME accuracy.\n",
            "2023-06-11 00:31:50,402 [trainer.py] => CNN: {'total': 20.0, '00-09': 1.2, '10-19': 0.0, '20-29': 7.7, '30-39': 11.3, '40-49': 79.8, 'old': 5.05, 'new': 79.8}\n",
            "2023-06-11 00:31:50,402 [trainer.py] => CNN top1 curve: [72.7, 37.85, 27.07, 23.68, 20.0]\n",
            "2023-06-11 00:31:50,402 [trainer.py] => CNN top5 curve: [97.0, 77.65, 59.2, 52.85, 47.18]\n",
            "\n",
            "2023-06-11 00:31:50,402 [trainer.py] => All params: 467404\n",
            "2023-06-11 00:31:50,403 [trainer.py] => Trainable params: 467404\n",
            "2023-06-11 00:31:50,403 [ewc.py] => Learning on 50-60\n",
            "Task 5, Epoch 10/10 => Loss 0.839, Train_accy 55.44: 100% 10/10 [00:50<00:00,  5.02s/it]\n",
            "2023-06-11 00:32:40,661 [ewc.py] => Task 5, Epoch 10/10 => Loss 0.839, Train_accy 55.44\n",
            "2023-06-11 00:32:45,504 [trainer.py] => No NME accuracy.\n",
            "2023-06-11 00:32:45,504 [trainer.py] => CNN: {'total': 17.93, '00-09': 0.2, '10-19': 0.0, '20-29': 6.7, '30-39': 4.0, '40-49': 42.6, '50-59': 54.1, 'old': 10.7, 'new': 54.1}\n",
            "2023-06-11 00:32:45,504 [trainer.py] => CNN top1 curve: [72.7, 37.85, 27.07, 23.68, 20.0, 17.93]\n",
            "2023-06-11 00:32:45,504 [trainer.py] => CNN top5 curve: [97.0, 77.65, 59.2, 52.85, 47.18, 44.93]\n",
            "\n",
            "2023-06-11 00:32:45,505 [trainer.py] => All params: 468054\n",
            "2023-06-11 00:32:45,505 [trainer.py] => Trainable params: 468054\n",
            "2023-06-11 00:32:45,506 [ewc.py] => Learning on 60-70\n",
            "Task 6, Epoch 10/10 => Loss 0.719, Train_accy 65.88: 100% 10/10 [00:49<00:00,  4.97s/it]\n",
            "2023-06-11 00:33:35,221 [ewc.py] => Task 6, Epoch 10/10 => Loss 0.719, Train_accy 65.88\n",
            "2023-06-11 00:33:40,444 [trainer.py] => No NME accuracy.\n",
            "2023-06-11 00:33:40,444 [trainer.py] => CNN: {'total': 17.73, '00-09': 0.3, '10-19': 0.0, '20-29': 8.1, '30-39': 3.8, '40-49': 26.3, '50-59': 18.8, '60-69': 66.8, 'old': 9.55, 'new': 66.8}\n",
            "2023-06-11 00:33:40,444 [trainer.py] => CNN top1 curve: [72.7, 37.85, 27.07, 23.68, 20.0, 17.93, 17.73]\n",
            "2023-06-11 00:33:40,444 [trainer.py] => CNN top5 curve: [97.0, 77.65, 59.2, 52.85, 47.18, 44.93, 40.79]\n",
            "\n",
            "2023-06-11 00:33:40,445 [trainer.py] => All params: 468704\n",
            "2023-06-11 00:33:40,445 [trainer.py] => Trainable params: 468704\n",
            "2023-06-11 00:33:40,446 [ewc.py] => Learning on 70-80\n",
            "Task 7, Epoch 10/10 => Loss 0.805, Train_accy 62.96: 100% 10/10 [00:51<00:00,  5.14s/it]\n",
            "2023-06-11 00:34:31,865 [ewc.py] => Task 7, Epoch 10/10 => Loss 0.805, Train_accy 62.96\n",
            "2023-06-11 00:34:38,294 [trainer.py] => No NME accuracy.\n",
            "2023-06-11 00:34:38,294 [trainer.py] => CNN: {'total': 13.49, '00-09': 0.2, '10-19': 0.0, '20-29': 1.5, '30-39': 1.5, '40-49': 15.0, '50-59': 6.6, '60-69': 21.4, '70-79': 61.7, 'old': 6.6, 'new': 61.7}\n",
            "2023-06-11 00:34:38,294 [trainer.py] => CNN top1 curve: [72.7, 37.85, 27.07, 23.68, 20.0, 17.93, 17.73, 13.49]\n",
            "2023-06-11 00:34:38,294 [trainer.py] => CNN top5 curve: [97.0, 77.65, 59.2, 52.85, 47.18, 44.93, 40.79, 38.45]\n",
            "\n",
            "2023-06-11 00:34:38,294 [trainer.py] => All params: 469354\n",
            "2023-06-11 00:34:38,295 [trainer.py] => Trainable params: 469354\n",
            "2023-06-11 00:34:38,296 [ewc.py] => Learning on 80-90\n",
            "Task 8, Epoch 10/10 => Loss 0.962, Train_accy 60.78: 100% 10/10 [00:51<00:00,  5.11s/it]\n",
            "2023-06-11 00:35:29,422 [ewc.py] => Task 8, Epoch 10/10 => Loss 0.962, Train_accy 60.78\n",
            "2023-06-11 00:35:35,194 [trainer.py] => No NME accuracy.\n",
            "2023-06-11 00:35:35,195 [trainer.py] => CNN: {'total': 13.46, '00-09': 0.1, '10-19': 0.0, '20-29': 4.3, '30-39': 1.1, '40-49': 15.7, '50-59': 4.2, '60-69': 12.9, '70-79': 17.3, '80-89': 65.5, 'old': 6.95, 'new': 65.5}\n",
            "2023-06-11 00:35:35,195 [trainer.py] => CNN top1 curve: [72.7, 37.85, 27.07, 23.68, 20.0, 17.93, 17.73, 13.49, 13.46]\n",
            "2023-06-11 00:35:35,195 [trainer.py] => CNN top5 curve: [97.0, 77.65, 59.2, 52.85, 47.18, 44.93, 40.79, 38.45, 38.26]\n",
            "\n",
            "2023-06-11 00:35:35,195 [trainer.py] => All params: 470004\n",
            "2023-06-11 00:35:35,196 [trainer.py] => Trainable params: 470004\n",
            "2023-06-11 00:35:35,196 [ewc.py] => Learning on 90-100\n",
            "Task 9, Epoch 10/10 => Loss 0.824, Train_accy 51.58: 100% 10/10 [00:52<00:00,  5.26s/it]\n",
            "2023-06-11 00:36:27,807 [ewc.py] => Task 9, Epoch 10/10 => Loss 0.824, Train_accy 51.58\n",
            "2023-06-11 00:36:35,067 [trainer.py] => No NME accuracy.\n",
            "2023-06-11 00:36:35,067 [trainer.py] => CNN: {'total': 11.16, '00-09': 0.1, '10-19': 0.0, '20-29': 4.6, '30-39': 0.8, '40-49': 11.0, '50-59': 2.7, '60-69': 6.3, '70-79': 14.1, '80-89': 24.9, '90-99': 47.1, 'old': 7.17, 'new': 47.1}\n",
            "2023-06-11 00:36:35,068 [trainer.py] => CNN top1 curve: [72.7, 37.85, 27.07, 23.68, 20.0, 17.93, 17.73, 13.49, 13.46, 11.16]\n",
            "2023-06-11 00:36:35,068 [trainer.py] => CNN top5 curve: [97.0, 77.65, 59.2, 52.85, 47.18, 44.93, 40.79, 38.45, 38.26, 32.63]\n",
            "\n"
          ]
        }
      ]
    },
    {
      "cell_type": "code",
      "source": [
        "!python main.py --config=./exps/icarl.json"
      ],
      "metadata": {
        "colab": {
          "base_uri": "https://localhost:8080/"
        },
        "id": "4H1kUS-Y5pYw",
        "outputId": "d8c904b1-aefa-48e3-d032-769bdd526b6f"
      },
      "execution_count": null,
      "outputs": [
        {
          "output_type": "stream",
          "name": "stdout",
          "text": [
            "2023-06-11 00:40:24.971549: W tensorflow/compiler/tf2tensorrt/utils/py_utils.cc:38] TF-TRT Warning: Could not find TensorRT\n",
            "2023-06-11 00:40:26,417 [trainer.py] => config: ./exps/icarl.json\n",
            "2023-06-11 00:40:26,417 [trainer.py] => prefix: reproduce\n",
            "2023-06-11 00:40:26,417 [trainer.py] => dataset: cifar100\n",
            "2023-06-11 00:40:26,417 [trainer.py] => memory_size: 2000\n",
            "2023-06-11 00:40:26,417 [trainer.py] => memory_per_class: 20\n",
            "2023-06-11 00:40:26,417 [trainer.py] => fixed_memory: False\n",
            "2023-06-11 00:40:26,418 [trainer.py] => shuffle: True\n",
            "2023-06-11 00:40:26,418 [trainer.py] => init_cls: 10\n",
            "2023-06-11 00:40:26,418 [trainer.py] => increment: 10\n",
            "2023-06-11 00:40:26,418 [trainer.py] => model_name: icarl\n",
            "2023-06-11 00:40:26,418 [trainer.py] => convnet_type: resnet32\n",
            "2023-06-11 00:40:26,418 [trainer.py] => device: [device(type='cuda', index=0)]\n",
            "2023-06-11 00:40:26,418 [trainer.py] => seed: 1993\n",
            "Files already downloaded and verified\n",
            "Files already downloaded and verified\n",
            "2023-06-11 00:40:28,199 [data_manager.py] => [68, 56, 78, 8, 23, 84, 90, 65, 74, 76, 40, 89, 3, 92, 55, 9, 26, 80, 43, 38, 58, 70, 77, 1, 85, 19, 17, 50, 28, 53, 13, 81, 45, 82, 6, 59, 83, 16, 15, 44, 91, 41, 72, 60, 79, 52, 20, 10, 31, 54, 37, 95, 14, 71, 96, 98, 97, 2, 64, 66, 42, 22, 35, 86, 24, 34, 87, 21, 99, 0, 88, 27, 18, 94, 11, 12, 47, 25, 30, 46, 62, 69, 36, 61, 7, 63, 75, 5, 32, 4, 51, 48, 73, 93, 39, 67, 29, 49, 57, 33]\n",
            "2023-06-11 00:40:28,589 [trainer.py] => All params: 464154\n",
            "2023-06-11 00:40:28,589 [trainer.py] => Trainable params: 464154\n",
            "2023-06-11 00:40:28,590 [icarl.py] => Learning on 0-10\n",
            "Task 0, Epoch 10/10 => Loss 1.250, Train_accy 56.28: 100% 10/10 [00:36<00:00,  3.68s/it]\n",
            "2023-06-11 00:41:05,584 [icarl.py] => Task 0, Epoch 10/10 => Loss 1.250, Train_accy 56.28\n",
            "2023-06-11 00:41:05,585 [base.py] => Reducing exemplars...(200 per classes)\n",
            "2023-06-11 00:41:05,585 [base.py] => Constructing exemplars...(200 per classes)\n",
            "/usr/local/lib/python3.10/dist-packages/torch/utils/data/dataloader.py:560: UserWarning: This DataLoader will create 4 worker processes in total. Our suggested max number of worker in current system is 2, which is smaller than what this DataLoader is going to create. Please be aware that excessive worker creation might get DataLoader running slow or even freeze, lower the worker number to avoid potential slowness/freeze if necessary.\n",
            "  warnings.warn(_create_warning_msg(\n",
            "2023-06-11 00:41:12,754 [icarl.py] => Exemplar size: 2000\n",
            "2023-06-11 00:41:12,754 [trainer.py] => CNN: {'total': 57.5, '00-09': 57.5, 'old': 0, 'new': 57.5}\n",
            "2023-06-11 00:41:12,754 [trainer.py] => NME: {'total': 57.5, '00-09': 57.5, 'old': 0, 'new': 57.5}\n",
            "2023-06-11 00:41:12,754 [trainer.py] => CNN top1 curve: [57.5]\n",
            "2023-06-11 00:41:12,754 [trainer.py] => CNN top5 curve: [95.4]\n",
            "2023-06-11 00:41:12,754 [trainer.py] => NME top1 curve: [57.5]\n",
            "2023-06-11 00:41:12,754 [trainer.py] => NME top5 curve: [93.9]\n",
            "\n",
            "2023-06-11 00:41:12,754 [trainer.py] => All params: 464804\n",
            "2023-06-11 00:41:12,755 [trainer.py] => Trainable params: 464804\n",
            "2023-06-11 00:41:12,755 [icarl.py] => Learning on 10-20\n",
            "Task 1, Epoch 10/10 => Loss 3.411, Train_accy 55.51: 100% 10/10 [00:52<00:00,  5.26s/it]\n",
            "2023-06-11 00:42:05,386 [icarl.py] => Task 1, Epoch 10/10 => Loss 3.411, Train_accy 55.51\n",
            "2023-06-11 00:42:05,386 [base.py] => Reducing exemplars...(100 per classes)\n",
            "2023-06-11 00:42:07,662 [base.py] => Constructing exemplars...(100 per classes)\n",
            "2023-06-11 00:42:16,299 [icarl.py] => Exemplar size: 2000\n",
            "2023-06-11 00:42:16,299 [trainer.py] => CNN: {'total': 49.4, '00-09': 46.8, '10-19': 52.0, 'old': 46.8, 'new': 52.0}\n",
            "2023-06-11 00:42:16,300 [trainer.py] => NME: {'total': 52.2, '00-09': 55.2, '10-19': 49.2, 'old': 55.2, 'new': 49.2}\n",
            "2023-06-11 00:42:16,300 [trainer.py] => CNN top1 curve: [57.5, 49.4]\n",
            "2023-06-11 00:42:16,300 [trainer.py] => CNN top5 curve: [95.4, 84.9]\n",
            "2023-06-11 00:42:16,300 [trainer.py] => NME top1 curve: [57.5, 52.2]\n",
            "2023-06-11 00:42:16,300 [trainer.py] => NME top5 curve: [93.9, 86.0]\n",
            "\n",
            "2023-06-11 00:42:16,300 [trainer.py] => All params: 465454\n",
            "2023-06-11 00:42:16,300 [trainer.py] => Trainable params: 465454\n",
            "2023-06-11 00:42:16,301 [icarl.py] => Learning on 20-30\n",
            "Task 2, Epoch 10/10 => Loss 3.589, Train_accy 69.46: 100% 10/10 [00:53<00:00,  5.40s/it]\n",
            "2023-06-11 00:43:10,354 [icarl.py] => Task 2, Epoch 10/10 => Loss 3.589, Train_accy 69.46\n",
            "2023-06-11 00:43:10,354 [base.py] => Reducing exemplars...(66 per classes)\n",
            "2023-06-11 00:43:14,569 [base.py] => Constructing exemplars...(66 per classes)\n",
            "2023-06-11 00:43:22,291 [icarl.py] => Exemplar size: 1980\n",
            "2023-06-11 00:43:22,291 [trainer.py] => CNN: {'total': 43.67, '00-09': 37.8, '10-19': 20.6, '20-29': 72.6, 'old': 29.2, 'new': 72.6}\n",
            "2023-06-11 00:43:22,291 [trainer.py] => NME: {'total': 53.37, '00-09': 57.3, '10-19': 39.7, '20-29': 63.1, 'old': 48.5, 'new': 63.1}\n",
            "2023-06-11 00:43:22,291 [trainer.py] => CNN top1 curve: [57.5, 49.4, 43.67]\n",
            "2023-06-11 00:43:22,291 [trainer.py] => CNN top5 curve: [95.4, 84.9, 77.73]\n",
            "2023-06-11 00:43:22,291 [trainer.py] => NME top1 curve: [57.5, 52.2, 53.37]\n",
            "2023-06-11 00:43:22,292 [trainer.py] => NME top5 curve: [93.9, 86.0, 82.53]\n",
            "\n",
            "2023-06-11 00:43:22,292 [trainer.py] => All params: 466104\n",
            "2023-06-11 00:43:22,292 [trainer.py] => Trainable params: 466104\n",
            "2023-06-11 00:43:22,293 [icarl.py] => Learning on 30-40\n",
            "Task 3, Epoch 10/10 => Loss 3.788, Train_accy 68.83: 100% 10/10 [00:56<00:00,  5.68s/it]\n",
            "2023-06-11 00:44:19,117 [icarl.py] => Task 3, Epoch 10/10 => Loss 3.788, Train_accy 68.83\n",
            "2023-06-11 00:44:19,118 [base.py] => Reducing exemplars...(50 per classes)\n",
            "2023-06-11 00:44:23,985 [base.py] => Constructing exemplars...(50 per classes)\n",
            "2023-06-11 00:44:32,741 [icarl.py] => Exemplar size: 2000\n",
            "2023-06-11 00:44:32,741 [trainer.py] => CNN: {'total': 43.02, '00-09': 45.1, '10-19': 20.9, '20-29': 39.9, '30-39': 66.2, 'old': 35.3, 'new': 66.2}\n",
            "2023-06-11 00:44:32,742 [trainer.py] => NME: {'total': 50.98, '00-09': 55.3, '10-19': 38.9, '20-29': 56.9, '30-39': 52.8, 'old': 50.37, 'new': 52.8}\n",
            "2023-06-11 00:44:32,742 [trainer.py] => CNN top1 curve: [57.5, 49.4, 43.67, 43.02]\n",
            "2023-06-11 00:44:32,742 [trainer.py] => CNN top5 curve: [95.4, 84.9, 77.73, 78.1]\n",
            "2023-06-11 00:44:32,742 [trainer.py] => NME top1 curve: [57.5, 52.2, 53.37, 50.98]\n",
            "2023-06-11 00:44:32,742 [trainer.py] => NME top5 curve: [93.9, 86.0, 82.53, 82.02]\n",
            "\n",
            "2023-06-11 00:44:32,742 [trainer.py] => All params: 466754\n",
            "2023-06-11 00:44:32,743 [trainer.py] => Trainable params: 466754\n",
            "2023-06-11 00:44:32,743 [icarl.py] => Learning on 40-50\n",
            "Task 4, Epoch 10/10 => Loss 3.631, Train_accy 78.59: 100% 10/10 [00:54<00:00,  5.49s/it]\n",
            "2023-06-11 00:45:27,700 [icarl.py] => Task 4, Epoch 10/10 => Loss 3.631, Train_accy 78.59\n",
            "2023-06-11 00:45:27,700 [base.py] => Reducing exemplars...(40 per classes)\n",
            "2023-06-11 00:45:34,510 [base.py] => Constructing exemplars...(40 per classes)\n",
            "2023-06-11 00:45:42,920 [icarl.py] => Exemplar size: 2000\n",
            "2023-06-11 00:45:42,920 [trainer.py] => CNN: {'total': 39.14, '00-09': 33.9, '10-19': 16.0, '20-29': 33.4, '30-39': 32.5, '40-49': 79.9, 'old': 28.95, 'new': 79.9}\n",
            "2023-06-11 00:45:42,920 [trainer.py] => NME: {'total': 50.04, '00-09': 51.2, '10-19': 36.3, '20-29': 54.5, '30-39': 44.0, '40-49': 64.2, 'old': 46.5, 'new': 64.2}\n",
            "2023-06-11 00:45:42,920 [trainer.py] => CNN top1 curve: [57.5, 49.4, 43.67, 43.02, 39.14]\n",
            "2023-06-11 00:45:42,920 [trainer.py] => CNN top5 curve: [95.4, 84.9, 77.73, 78.1, 74.44]\n",
            "2023-06-11 00:45:42,920 [trainer.py] => NME top1 curve: [57.5, 52.2, 53.37, 50.98, 50.04]\n",
            "2023-06-11 00:45:42,920 [trainer.py] => NME top5 curve: [93.9, 86.0, 82.53, 82.02, 80.38]\n",
            "\n",
            "2023-06-11 00:45:42,921 [trainer.py] => All params: 467404\n",
            "2023-06-11 00:45:42,921 [trainer.py] => Trainable params: 467404\n",
            "2023-06-11 00:45:42,922 [icarl.py] => Learning on 50-60\n",
            "Task 5, Epoch 10/10 => Loss 3.889, Train_accy 75.86: 100% 10/10 [00:57<00:00,  5.73s/it]\n",
            "2023-06-11 00:46:40,256 [icarl.py] => Task 5, Epoch 10/10 => Loss 3.889, Train_accy 75.86\n",
            "2023-06-11 00:46:40,257 [base.py] => Reducing exemplars...(33 per classes)\n",
            "2023-06-11 00:46:47,507 [base.py] => Constructing exemplars...(33 per classes)\n",
            "2023-06-11 00:46:57,374 [icarl.py] => Exemplar size: 1980\n",
            "2023-06-11 00:46:57,374 [trainer.py] => CNN: {'total': 39.15, '00-09': 32.6, '10-19': 19.6, '20-29': 38.3, '30-39': 27.4, '40-49': 46.2, '50-59': 70.8, 'old': 32.82, 'new': 70.8}\n",
            "2023-06-11 00:46:57,374 [trainer.py] => NME: {'total': 48.3, '00-09': 48.5, '10-19': 35.6, '20-29': 52.8, '30-39': 40.4, '40-49': 56.6, '50-59': 55.9, 'old': 46.78, 'new': 55.9}\n",
            "2023-06-11 00:46:57,374 [trainer.py] => CNN top1 curve: [57.5, 49.4, 43.67, 43.02, 39.14, 39.15]\n",
            "2023-06-11 00:46:57,374 [trainer.py] => CNN top5 curve: [95.4, 84.9, 77.73, 78.1, 74.44, 72.95]\n",
            "2023-06-11 00:46:57,374 [trainer.py] => NME top1 curve: [57.5, 52.2, 53.37, 50.98, 50.04, 48.3]\n",
            "2023-06-11 00:46:57,374 [trainer.py] => NME top5 curve: [93.9, 86.0, 82.53, 82.02, 80.38, 78.68]\n",
            "\n",
            "2023-06-11 00:46:57,375 [trainer.py] => All params: 468054\n",
            "2023-06-11 00:46:57,375 [trainer.py] => Trainable params: 468054\n",
            "2023-06-11 00:46:57,376 [icarl.py] => Learning on 60-70\n",
            "Task 6, Epoch 10/10 => Loss 3.871, Train_accy 79.67: 100% 10/10 [00:55<00:00,  5.52s/it]\n",
            "2023-06-11 00:47:52,693 [icarl.py] => Task 6, Epoch 10/10 => Loss 3.871, Train_accy 79.67\n",
            "2023-06-11 00:47:52,695 [base.py] => Reducing exemplars...(28 per classes)\n",
            "2023-06-11 00:48:02,034 [base.py] => Constructing exemplars...(28 per classes)\n",
            "2023-06-11 00:48:12,371 [icarl.py] => Exemplar size: 1960\n",
            "2023-06-11 00:48:12,371 [trainer.py] => CNN: {'total': 38.11, '00-09': 29.2, '10-19': 23.2, '20-29': 35.1, '30-39': 23.4, '40-49': 39.9, '50-59': 35.5, '60-69': 80.5, 'old': 31.05, 'new': 80.5}\n",
            "2023-06-11 00:48:12,371 [trainer.py] => NME: {'total': 47.71, '00-09': 45.8, '10-19': 35.1, '20-29': 49.8, '30-39': 39.8, '40-49': 53.4, '50-59': 47.0, '60-69': 63.1, 'old': 45.15, 'new': 63.1}\n",
            "2023-06-11 00:48:12,371 [trainer.py] => CNN top1 curve: [57.5, 49.4, 43.67, 43.02, 39.14, 39.15, 38.11]\n",
            "2023-06-11 00:48:12,371 [trainer.py] => CNN top5 curve: [95.4, 84.9, 77.73, 78.1, 74.44, 72.95, 71.86]\n",
            "2023-06-11 00:48:12,371 [trainer.py] => NME top1 curve: [57.5, 52.2, 53.37, 50.98, 50.04, 48.3, 47.71]\n",
            "2023-06-11 00:48:12,371 [trainer.py] => NME top5 curve: [93.9, 86.0, 82.53, 82.02, 80.38, 78.68, 78.06]\n",
            "\n",
            "2023-06-11 00:48:12,372 [trainer.py] => All params: 468704\n",
            "2023-06-11 00:48:12,372 [trainer.py] => Trainable params: 468704\n",
            "2023-06-11 00:48:12,373 [icarl.py] => Learning on 70-80\n",
            "Task 7, Epoch 10/10 => Loss 3.875, Train_accy 77.24: 100% 10/10 [00:56<00:00,  5.68s/it]\n",
            "2023-06-11 00:49:09,198 [icarl.py] => Task 7, Epoch 10/10 => Loss 3.875, Train_accy 77.24\n",
            "2023-06-11 00:49:09,199 [base.py] => Reducing exemplars...(25 per classes)\n",
            "2023-06-11 00:49:19,705 [base.py] => Constructing exemplars...(25 per classes)\n",
            "2023-06-11 00:49:30,472 [icarl.py] => Exemplar size: 2000\n",
            "2023-06-11 00:49:30,472 [trainer.py] => CNN: {'total': 36.7, '00-09': 33.4, '10-19': 16.3, '20-29': 38.7, '30-39': 30.8, '40-49': 36.9, '50-59': 21.6, '60-69': 45.3, '70-79': 70.6, 'old': 31.86, 'new': 70.6}\n",
            "2023-06-11 00:49:30,472 [trainer.py] => NME: {'total': 43.89, '00-09': 46.9, '10-19': 29.3, '20-29': 47.9, '30-39': 36.9, '40-49': 51.8, '50-59': 39.0, '60-69': 49.6, '70-79': 49.7, 'old': 43.06, 'new': 49.7}\n",
            "2023-06-11 00:49:30,472 [trainer.py] => CNN top1 curve: [57.5, 49.4, 43.67, 43.02, 39.14, 39.15, 38.11, 36.7]\n",
            "2023-06-11 00:49:30,472 [trainer.py] => CNN top5 curve: [95.4, 84.9, 77.73, 78.1, 74.44, 72.95, 71.86, 69.55]\n",
            "2023-06-11 00:49:30,472 [trainer.py] => NME top1 curve: [57.5, 52.2, 53.37, 50.98, 50.04, 48.3, 47.71, 43.89]\n",
            "2023-06-11 00:49:30,473 [trainer.py] => NME top5 curve: [93.9, 86.0, 82.53, 82.02, 80.38, 78.68, 78.06, 76.28]\n",
            "\n",
            "2023-06-11 00:49:30,473 [trainer.py] => All params: 469354\n",
            "2023-06-11 00:49:30,473 [trainer.py] => Trainable params: 469354\n",
            "2023-06-11 00:49:30,474 [icarl.py] => Learning on 80-90\n",
            "Task 8, Epoch 10/10 => Loss 3.952, Train_accy 81.14: 100% 10/10 [00:58<00:00,  5.83s/it]\n",
            "2023-06-11 00:50:28,853 [icarl.py] => Task 8, Epoch 10/10 => Loss 3.952, Train_accy 81.14\n",
            "2023-06-11 00:50:28,854 [base.py] => Reducing exemplars...(22 per classes)\n",
            "2023-06-11 00:50:41,196 [base.py] => Constructing exemplars...(22 per classes)\n",
            "2023-06-11 00:50:52,411 [icarl.py] => Exemplar size: 1980\n",
            "2023-06-11 00:50:52,411 [trainer.py] => CNN: {'total': 32.14, '00-09': 31.1, '10-19': 15.6, '20-29': 30.0, '30-39': 22.1, '40-49': 29.4, '50-59': 20.3, '60-69': 28.1, '70-79': 36.8, '80-89': 75.9, 'old': 26.68, 'new': 75.9}\n",
            "2023-06-11 00:50:52,411 [trainer.py] => NME: {'total': 43.0, '00-09': 43.7, '10-19': 27.6, '20-29': 45.5, '30-39': 35.8, '40-49': 50.5, '50-59': 39.1, '60-69': 46.6, '70-79': 44.2, '80-89': 54.0, 'old': 41.62, 'new': 54.0}\n",
            "2023-06-11 00:50:52,411 [trainer.py] => CNN top1 curve: [57.5, 49.4, 43.67, 43.02, 39.14, 39.15, 38.11, 36.7, 32.14]\n",
            "2023-06-11 00:50:52,412 [trainer.py] => CNN top5 curve: [95.4, 84.9, 77.73, 78.1, 74.44, 72.95, 71.86, 69.55, 65.29]\n",
            "2023-06-11 00:50:52,412 [trainer.py] => NME top1 curve: [57.5, 52.2, 53.37, 50.98, 50.04, 48.3, 47.71, 43.89, 43.0]\n",
            "2023-06-11 00:50:52,412 [trainer.py] => NME top5 curve: [93.9, 86.0, 82.53, 82.02, 80.38, 78.68, 78.06, 76.28, 74.02]\n",
            "\n",
            "2023-06-11 00:50:52,412 [trainer.py] => All params: 470004\n",
            "2023-06-11 00:50:52,413 [trainer.py] => Trainable params: 470004\n",
            "2023-06-11 00:50:52,414 [icarl.py] => Learning on 90-100\n",
            "Task 9, Epoch 10/10 => Loss 4.181, Train_accy 78.28: 100% 10/10 [00:58<00:00,  5.82s/it]\n",
            "2023-06-11 00:51:50,755 [icarl.py] => Task 9, Epoch 10/10 => Loss 4.181, Train_accy 78.28\n",
            "2023-06-11 00:51:50,755 [base.py] => Reducing exemplars...(20 per classes)\n",
            "2023-06-11 00:52:05,322 [base.py] => Constructing exemplars...(20 per classes)\n",
            "2023-06-11 00:52:17,400 [icarl.py] => Exemplar size: 2000\n",
            "2023-06-11 00:52:17,400 [trainer.py] => CNN: {'total': 31.87, '00-09': 29.2, '10-19': 16.7, '20-29': 34.1, '30-39': 25.8, '40-49': 32.1, '50-59': 17.6, '60-69': 29.9, '70-79': 22.0, '80-89': 42.1, '90-99': 69.2, 'old': 27.72, 'new': 69.2}\n",
            "2023-06-11 00:52:17,400 [trainer.py] => NME: {'total': 40.48, '00-09': 42.4, '10-19': 26.6, '20-29': 44.6, '30-39': 36.6, '40-49': 48.4, '50-59': 33.5, '60-69': 45.4, '70-79': 35.9, '80-89': 40.9, '90-99': 50.5, 'old': 39.37, 'new': 50.5}\n",
            "2023-06-11 00:52:17,400 [trainer.py] => CNN top1 curve: [57.5, 49.4, 43.67, 43.02, 39.14, 39.15, 38.11, 36.7, 32.14, 31.87]\n",
            "2023-06-11 00:52:17,400 [trainer.py] => CNN top5 curve: [95.4, 84.9, 77.73, 78.1, 74.44, 72.95, 71.86, 69.55, 65.29, 63.81]\n",
            "2023-06-11 00:52:17,400 [trainer.py] => NME top1 curve: [57.5, 52.2, 53.37, 50.98, 50.04, 48.3, 47.71, 43.89, 43.0, 40.48]\n",
            "2023-06-11 00:52:17,400 [trainer.py] => NME top5 curve: [93.9, 86.0, 82.53, 82.02, 80.38, 78.68, 78.06, 76.28, 74.02, 72.11]\n",
            "\n"
          ]
        }
      ]
    },
    {
      "cell_type": "code",
      "source": [
        "# My Classifier\n",
        "!python main.py --config=./exps/BIC_mod.json"
      ],
      "metadata": {
        "id": "cWp8lp-M6wWB",
        "colab": {
          "base_uri": "https://localhost:8080/"
        },
        "outputId": "e7752679-284d-4840-b3bd-3c34829feaef"
      },
      "execution_count": 20,
      "outputs": [
        {
          "output_type": "stream",
          "name": "stdout",
          "text": [
            "2023-06-11 01:20:29.111707: W tensorflow/compiler/tf2tensorrt/utils/py_utils.cc:38] TF-TRT Warning: Could not find TensorRT\n",
            "2023-06-11 01:20:30,941 [trainer.py] => config: ./exps/BIC_mod.json\n",
            "2023-06-11 01:20:30,941 [trainer.py] => prefix: reproduce\n",
            "2023-06-11 01:20:30,941 [trainer.py] => dataset: cifar100\n",
            "2023-06-11 01:20:30,941 [trainer.py] => memory_size: 2000\n",
            "2023-06-11 01:20:30,941 [trainer.py] => memory_per_class: 20\n",
            "2023-06-11 01:20:30,941 [trainer.py] => fixed_memory: False\n",
            "2023-06-11 01:20:30,941 [trainer.py] => shuffle: True\n",
            "2023-06-11 01:20:30,941 [trainer.py] => init_cls: 10\n",
            "2023-06-11 01:20:30,942 [trainer.py] => increment: 10\n",
            "2023-06-11 01:20:30,942 [trainer.py] => model_name: BIC_mod\n",
            "2023-06-11 01:20:30,942 [trainer.py] => convnet_type: resnet32\n",
            "2023-06-11 01:20:30,942 [trainer.py] => device: [device(type='cuda', index=0)]\n",
            "2023-06-11 01:20:30,942 [trainer.py] => seed: 1993\n",
            "Files already downloaded and verified\n",
            "Files already downloaded and verified\n",
            "2023-06-11 01:20:32,884 [data_manager.py] => [68, 56, 78, 8, 23, 84, 90, 65, 74, 76, 40, 89, 3, 92, 55, 9, 26, 80, 43, 38, 58, 70, 77, 1, 85, 19, 17, 50, 28, 53, 13, 81, 45, 82, 6, 59, 83, 16, 15, 44, 91, 41, 72, 60, 79, 52, 20, 10, 31, 54, 37, 95, 14, 71, 96, 98, 97, 2, 64, 66, 42, 22, 35, 86, 24, 34, 87, 21, 99, 0, 88, 27, 18, 94, 11, 12, 47, 25, 30, 46, 62, 69, 36, 61, 7, 63, 75, 5, 32, 4, 51, 48, 73, 93, 39, 67, 29, 49, 57, 33]\n",
            "Traceback (most recent call last):\n",
            "  File \"/content/PyCIL/main.py\", line 31, in <module>\n",
            "    main()\n",
            "  File \"/content/PyCIL/main.py\", line 12, in main\n",
            "    train(args)\n",
            "  File \"/content/PyCIL/trainer.py\", line 18, in train\n",
            "    _train(args)\n",
            "  File \"/content/PyCIL/trainer.py\", line 57, in _train\n",
            "    model = factory.get_model(args[\"model_name\"], args)\n",
            "  File \"/content/PyCIL/utils/factory.py\", line 58, in get_model\n",
            "    assert 0\n",
            "AssertionError\n"
          ]
        }
      ]
    },
    {
      "cell_type": "code",
      "source": [],
      "metadata": {
        "id": "8kWE5D1yBqLJ"
      },
      "execution_count": null,
      "outputs": []
    },
    {
      "cell_type": "markdown",
      "source": [],
      "metadata": {
        "id": "uLqGBsPhB8b4"
      }
    }
  ]
}